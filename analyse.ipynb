{
 "cells": [
  {
   "cell_type": "code",
   "id": "initial_id",
   "metadata": {
    "collapsed": true,
    "ExecuteTime": {
     "end_time": "2025-03-08T22:00:25.429427Z",
     "start_time": "2025-03-08T22:00:25.084150Z"
    }
   },
   "source": [
    "import pandas as pd\n",
    "import json\n",
    "\n",
    "from sympy import false"
   ],
   "outputs": [],
   "execution_count": 3
  },
  {
   "metadata": {
    "ExecuteTime": {
     "end_time": "2025-03-08T22:00:41.574531Z",
     "start_time": "2025-03-08T22:00:41.571248Z"
    }
   },
   "cell_type": "code",
   "source": [
    "DELAYS = ['CARRIER_DELAY', 'WEATHER_DELAY', 'NAS_DELAY', 'SECURITY_DELAY', 'LATE_AIRCRAFT_DELAY']\n",
    "DATES = ['YEAR', 'MONTH', 'DAY_OF_MONTH']\n",
    "AIRLINE = 'AIRLINE_NAME'\n",
    "ORIGIN = ['ORIGIN_AIRPORT_NAME', 'ORIGIN_STATE_ABR', 'ORIGIN_STATE_NM']\n",
    "DEST = ['DEST_AIRPORT_NAME', 'DEST_STATE_ABR', 'DEST_STATE_NM']\n",
    "DEPART = ['CRS_DEP_TIME', 'DEP_TIME', 'DEP_DELAY_NEW', 'TAXI_OUT', 'WHEELS_OFF']\n",
    "ARRIVAL = ['CRS_ARR_TIME', 'ARR_TIME', 'ARR_DELAY_NEW', 'TAXI_IN', 'WHEELS_ON']\n",
    "FLIGHT = ['CRS_ELAPSED_TIME', 'ACTUAL_ELAPSED_TIME', 'AIR_TIME', 'DISTANCE']"
   ],
   "id": "7e6715783588718",
   "outputs": [],
   "execution_count": 7
  },
  {
   "metadata": {
    "ExecuteTime": {
     "end_time": "2025-03-08T22:00:29.079108Z",
     "start_time": "2025-03-08T22:00:26.888346Z"
    }
   },
   "cell_type": "code",
   "source": "df = pd.read_csv('/Users/ykamoji/Documents/Semester4/COMPSCI_571/Project/Data/airlines_delay_data_v2.csv')",
   "id": "b4f0247bada60e43",
   "outputs": [],
   "execution_count": 4
  },
  {
   "metadata": {},
   "cell_type": "markdown",
   "source": "## Sanity Check",
   "id": "31d5c02d4dd0c2e3"
  },
  {
   "metadata": {
    "ExecuteTime": {
     "end_time": "2025-03-08T21:49:57.338609Z",
     "start_time": "2025-03-08T21:49:57.330310Z"
    }
   },
   "cell_type": "code",
   "source": "df.head(5)",
   "id": "44a67f0266137ea7",
   "outputs": [
    {
     "data": {
      "text/plain": [
       "   ID  YEAR  MONTH  DAY_OF_MONTH       AIRLINE_NAME  \\\n",
       "0   0  2023     12             1  Endeavor Air Inc.   \n",
       "1   1  2023     12             1  Endeavor Air Inc.   \n",
       "2   2  2023     12             1  Endeavor Air Inc.   \n",
       "3   3  2023     12             1  Endeavor Air Inc.   \n",
       "4   4  2023     12             1  Endeavor Air Inc.   \n",
       "\n",
       "                                 ORIGIN_AIRPORT_NAME ORIGIN_STATE_ABR  \\\n",
       "0  Atlanta, GA: Hartsfield-Jackson Atlanta Intern...               GA   \n",
       "1  Atlanta, GA: Hartsfield-Jackson Atlanta Intern...               GA   \n",
       "2  Atlanta, GA: Hartsfield-Jackson Atlanta Intern...               GA   \n",
       "3       Austin, TX: Austin - Bergstrom International               TX   \n",
       "4         Buffalo, NY: Buffalo Niagara International               NY   \n",
       "\n",
       "  ORIGIN_STATE_NM                                  DEST_AIRPORT_NAME  \\\n",
       "0         Georgia  Lafayette, LA: Lafayette Regional Paul Fournet...   \n",
       "1         Georgia              Moline, IL: Quad Cities International   \n",
       "2         Georgia           Roanoke, VA: Roanoke Blacksburg Regional   \n",
       "3           Texas   Raleigh/Durham, NC: Raleigh-Durham International   \n",
       "4        New York        New York, NY: John F. Kennedy International   \n",
       "\n",
       "  DEST_STATE_ABR  ... WHEELS_ON  CRS_ELAPSED_TIME  ACTUAL_ELAPSED_TIME  \\\n",
       "0             LA  ...      1704             106.0                106.0   \n",
       "1             IL  ...      1648             119.0                115.0   \n",
       "2             VA  ...      1927              91.0                 74.0   \n",
       "3             NC  ...      1658             170.0                151.0   \n",
       "4             NY  ...      1236             100.0                 93.0   \n",
       "\n",
       "   AIR_TIME  DISTANCE  CARRIER_DELAY  WEATHER_DELAY  NAS_DELAY  \\\n",
       "0      86.0     503.0             30              0          0   \n",
       "1      94.0     633.0             28              0          0   \n",
       "2      49.0     357.0             17              0          0   \n",
       "3     133.0    1162.0              0              0          0   \n",
       "4      66.0     301.0              0              0          0   \n",
       "\n",
       "   SECURITY_DELAY  LATE_AIRCRAFT_DELAY  \n",
       "0               0                    0  \n",
       "1               0                    0  \n",
       "2               0                    0  \n",
       "3               0                  202  \n",
       "4               0                   37  \n",
       "\n",
       "[5 rows x 30 columns]"
      ],
      "text/html": [
       "<div>\n",
       "<style scoped>\n",
       "    .dataframe tbody tr th:only-of-type {\n",
       "        vertical-align: middle;\n",
       "    }\n",
       "\n",
       "    .dataframe tbody tr th {\n",
       "        vertical-align: top;\n",
       "    }\n",
       "\n",
       "    .dataframe thead th {\n",
       "        text-align: right;\n",
       "    }\n",
       "</style>\n",
       "<table border=\"1\" class=\"dataframe\">\n",
       "  <thead>\n",
       "    <tr style=\"text-align: right;\">\n",
       "      <th></th>\n",
       "      <th>ID</th>\n",
       "      <th>YEAR</th>\n",
       "      <th>MONTH</th>\n",
       "      <th>DAY_OF_MONTH</th>\n",
       "      <th>AIRLINE_NAME</th>\n",
       "      <th>ORIGIN_AIRPORT_NAME</th>\n",
       "      <th>ORIGIN_STATE_ABR</th>\n",
       "      <th>ORIGIN_STATE_NM</th>\n",
       "      <th>DEST_AIRPORT_NAME</th>\n",
       "      <th>DEST_STATE_ABR</th>\n",
       "      <th>...</th>\n",
       "      <th>WHEELS_ON</th>\n",
       "      <th>CRS_ELAPSED_TIME</th>\n",
       "      <th>ACTUAL_ELAPSED_TIME</th>\n",
       "      <th>AIR_TIME</th>\n",
       "      <th>DISTANCE</th>\n",
       "      <th>CARRIER_DELAY</th>\n",
       "      <th>WEATHER_DELAY</th>\n",
       "      <th>NAS_DELAY</th>\n",
       "      <th>SECURITY_DELAY</th>\n",
       "      <th>LATE_AIRCRAFT_DELAY</th>\n",
       "    </tr>\n",
       "  </thead>\n",
       "  <tbody>\n",
       "    <tr>\n",
       "      <th>0</th>\n",
       "      <td>0</td>\n",
       "      <td>2023</td>\n",
       "      <td>12</td>\n",
       "      <td>1</td>\n",
       "      <td>Endeavor Air Inc.</td>\n",
       "      <td>Atlanta, GA: Hartsfield-Jackson Atlanta Intern...</td>\n",
       "      <td>GA</td>\n",
       "      <td>Georgia</td>\n",
       "      <td>Lafayette, LA: Lafayette Regional Paul Fournet...</td>\n",
       "      <td>LA</td>\n",
       "      <td>...</td>\n",
       "      <td>1704</td>\n",
       "      <td>106.0</td>\n",
       "      <td>106.0</td>\n",
       "      <td>86.0</td>\n",
       "      <td>503.0</td>\n",
       "      <td>30</td>\n",
       "      <td>0</td>\n",
       "      <td>0</td>\n",
       "      <td>0</td>\n",
       "      <td>0</td>\n",
       "    </tr>\n",
       "    <tr>\n",
       "      <th>1</th>\n",
       "      <td>1</td>\n",
       "      <td>2023</td>\n",
       "      <td>12</td>\n",
       "      <td>1</td>\n",
       "      <td>Endeavor Air Inc.</td>\n",
       "      <td>Atlanta, GA: Hartsfield-Jackson Atlanta Intern...</td>\n",
       "      <td>GA</td>\n",
       "      <td>Georgia</td>\n",
       "      <td>Moline, IL: Quad Cities International</td>\n",
       "      <td>IL</td>\n",
       "      <td>...</td>\n",
       "      <td>1648</td>\n",
       "      <td>119.0</td>\n",
       "      <td>115.0</td>\n",
       "      <td>94.0</td>\n",
       "      <td>633.0</td>\n",
       "      <td>28</td>\n",
       "      <td>0</td>\n",
       "      <td>0</td>\n",
       "      <td>0</td>\n",
       "      <td>0</td>\n",
       "    </tr>\n",
       "    <tr>\n",
       "      <th>2</th>\n",
       "      <td>2</td>\n",
       "      <td>2023</td>\n",
       "      <td>12</td>\n",
       "      <td>1</td>\n",
       "      <td>Endeavor Air Inc.</td>\n",
       "      <td>Atlanta, GA: Hartsfield-Jackson Atlanta Intern...</td>\n",
       "      <td>GA</td>\n",
       "      <td>Georgia</td>\n",
       "      <td>Roanoke, VA: Roanoke Blacksburg Regional</td>\n",
       "      <td>VA</td>\n",
       "      <td>...</td>\n",
       "      <td>1927</td>\n",
       "      <td>91.0</td>\n",
       "      <td>74.0</td>\n",
       "      <td>49.0</td>\n",
       "      <td>357.0</td>\n",
       "      <td>17</td>\n",
       "      <td>0</td>\n",
       "      <td>0</td>\n",
       "      <td>0</td>\n",
       "      <td>0</td>\n",
       "    </tr>\n",
       "    <tr>\n",
       "      <th>3</th>\n",
       "      <td>3</td>\n",
       "      <td>2023</td>\n",
       "      <td>12</td>\n",
       "      <td>1</td>\n",
       "      <td>Endeavor Air Inc.</td>\n",
       "      <td>Austin, TX: Austin - Bergstrom International</td>\n",
       "      <td>TX</td>\n",
       "      <td>Texas</td>\n",
       "      <td>Raleigh/Durham, NC: Raleigh-Durham International</td>\n",
       "      <td>NC</td>\n",
       "      <td>...</td>\n",
       "      <td>1658</td>\n",
       "      <td>170.0</td>\n",
       "      <td>151.0</td>\n",
       "      <td>133.0</td>\n",
       "      <td>1162.0</td>\n",
       "      <td>0</td>\n",
       "      <td>0</td>\n",
       "      <td>0</td>\n",
       "      <td>0</td>\n",
       "      <td>202</td>\n",
       "    </tr>\n",
       "    <tr>\n",
       "      <th>4</th>\n",
       "      <td>4</td>\n",
       "      <td>2023</td>\n",
       "      <td>12</td>\n",
       "      <td>1</td>\n",
       "      <td>Endeavor Air Inc.</td>\n",
       "      <td>Buffalo, NY: Buffalo Niagara International</td>\n",
       "      <td>NY</td>\n",
       "      <td>New York</td>\n",
       "      <td>New York, NY: John F. Kennedy International</td>\n",
       "      <td>NY</td>\n",
       "      <td>...</td>\n",
       "      <td>1236</td>\n",
       "      <td>100.0</td>\n",
       "      <td>93.0</td>\n",
       "      <td>66.0</td>\n",
       "      <td>301.0</td>\n",
       "      <td>0</td>\n",
       "      <td>0</td>\n",
       "      <td>0</td>\n",
       "      <td>0</td>\n",
       "      <td>37</td>\n",
       "    </tr>\n",
       "  </tbody>\n",
       "</table>\n",
       "<p>5 rows × 30 columns</p>\n",
       "</div>"
      ]
     },
     "execution_count": 32,
     "metadata": {},
     "output_type": "execute_result"
    }
   ],
   "execution_count": 32
  },
  {
   "metadata": {
    "ExecuteTime": {
     "end_time": "2025-03-08T21:49:57.755952Z",
     "start_time": "2025-03-08T21:49:57.743859Z"
    }
   },
   "cell_type": "code",
   "source": "df[DELAYS].isnull().sum()",
   "id": "2e41d6c968d1463c",
   "outputs": [
    {
     "data": {
      "text/plain": [
       "CARRIER_DELAY          0\n",
       "WEATHER_DELAY          0\n",
       "NAS_DELAY              0\n",
       "SECURITY_DELAY         0\n",
       "LATE_AIRCRAFT_DELAY    0\n",
       "dtype: int64"
      ]
     },
     "execution_count": 33,
     "metadata": {},
     "output_type": "execute_result"
    }
   ],
   "execution_count": 33
  },
  {
   "metadata": {
    "ExecuteTime": {
     "end_time": "2025-03-08T21:49:58.081072Z",
     "start_time": "2025-03-08T21:49:58.070619Z"
    }
   },
   "cell_type": "code",
   "source": "df[DATES].isnull().sum()",
   "id": "2ca45a38b42bded8",
   "outputs": [
    {
     "data": {
      "text/plain": [
       "YEAR            0\n",
       "MONTH           0\n",
       "DAY_OF_MONTH    0\n",
       "dtype: int64"
      ]
     },
     "execution_count": 34,
     "metadata": {},
     "output_type": "execute_result"
    }
   ],
   "execution_count": 34
  },
  {
   "metadata": {
    "ExecuteTime": {
     "end_time": "2025-03-08T21:49:58.447640Z",
     "start_time": "2025-03-08T21:49:58.410864Z"
    }
   },
   "cell_type": "code",
   "source": "df[AIRLINE].isnull().sum()",
   "id": "53b3d995ed2bf2c5",
   "outputs": [
    {
     "data": {
      "text/plain": [
       "0"
      ]
     },
     "execution_count": 35,
     "metadata": {},
     "output_type": "execute_result"
    }
   ],
   "execution_count": 35
  },
  {
   "metadata": {
    "ExecuteTime": {
     "end_time": "2025-03-08T21:49:59.029476Z",
     "start_time": "2025-03-08T21:49:58.748814Z"
    }
   },
   "cell_type": "code",
   "source": "df[ORIGIN].isnull().sum()",
   "id": "3cbbd31926c26de",
   "outputs": [
    {
     "data": {
      "text/plain": [
       "ORIGIN_AIRPORT_NAME    0\n",
       "ORIGIN_STATE_ABR       0\n",
       "ORIGIN_STATE_NM        0\n",
       "dtype: int64"
      ]
     },
     "execution_count": 36,
     "metadata": {},
     "output_type": "execute_result"
    }
   ],
   "execution_count": 36
  },
  {
   "metadata": {
    "ExecuteTime": {
     "end_time": "2025-03-08T21:49:59.487496Z",
     "start_time": "2025-03-08T21:49:59.220096Z"
    }
   },
   "cell_type": "code",
   "source": "df[DEST].isnull().sum()",
   "id": "cb3d36442978d78",
   "outputs": [
    {
     "data": {
      "text/plain": [
       "DEST_AIRPORT_NAME    0\n",
       "DEST_STATE_ABR       0\n",
       "DEST_STATE_NM        0\n",
       "dtype: int64"
      ]
     },
     "execution_count": 37,
     "metadata": {},
     "output_type": "execute_result"
    }
   ],
   "execution_count": 37
  },
  {
   "metadata": {
    "ExecuteTime": {
     "end_time": "2025-03-08T21:49:59.742251Z",
     "start_time": "2025-03-08T21:49:59.726557Z"
    }
   },
   "cell_type": "code",
   "source": "df[DEPART].isnull().sum()",
   "id": "af208942e263b1af",
   "outputs": [
    {
     "data": {
      "text/plain": [
       "CRS_DEP_TIME     0\n",
       "DEP_TIME         0\n",
       "DEP_DELAY_NEW    0\n",
       "TAXI_OUT         0\n",
       "WHEELS_OFF       0\n",
       "dtype: int64"
      ]
     },
     "execution_count": 38,
     "metadata": {},
     "output_type": "execute_result"
    }
   ],
   "execution_count": 38
  },
  {
   "metadata": {
    "ExecuteTime": {
     "end_time": "2025-03-08T21:50:00.167090Z",
     "start_time": "2025-03-08T21:50:00.152692Z"
    }
   },
   "cell_type": "code",
   "source": "df[ARRIVAL].isnull().sum()",
   "id": "f7291d015601b7fa",
   "outputs": [
    {
     "data": {
      "text/plain": [
       "CRS_ARR_TIME     0\n",
       "ARR_TIME         0\n",
       "ARR_DELAY_NEW    0\n",
       "TAXI_IN          0\n",
       "WHEELS_ON        0\n",
       "dtype: int64"
      ]
     },
     "execution_count": 39,
     "metadata": {},
     "output_type": "execute_result"
    }
   ],
   "execution_count": 39
  },
  {
   "metadata": {
    "ExecuteTime": {
     "end_time": "2025-03-08T21:50:00.559931Z",
     "start_time": "2025-03-08T21:50:00.548327Z"
    }
   },
   "cell_type": "code",
   "source": "df[FLIGHT].isnull().sum()",
   "id": "8857a6d5be6aa89c",
   "outputs": [
    {
     "data": {
      "text/plain": [
       "CRS_ELAPSED_TIME       0\n",
       "ACTUAL_ELAPSED_TIME    0\n",
       "AIR_TIME               0\n",
       "DISTANCE               0\n",
       "dtype: int64"
      ]
     },
     "execution_count": 40,
     "metadata": {},
     "output_type": "execute_result"
    }
   ],
   "execution_count": 40
  },
  {
   "metadata": {},
   "cell_type": "markdown",
   "source": "### Geo map calculations",
   "id": "43a12b7d50df63b0"
  },
  {
   "metadata": {
    "ExecuteTime": {
     "end_time": "2025-03-08T21:50:01.377127Z",
     "start_time": "2025-03-08T21:50:01.274490Z"
    }
   },
   "cell_type": "code",
   "source": "df[['ORIGIN_STATE_ABR']+DELAYS].groupby('ORIGIN_STATE_ABR')[DELAYS].agg(['sum','count']).head(5)",
   "id": "c479a201592bed4d",
   "outputs": [
    {
     "data": {
      "text/plain": [
       "                 CARRIER_DELAY         WEATHER_DELAY         NAS_DELAY  \\\n",
       "                           sum   count           sum   count       sum   \n",
       "ORIGIN_STATE_ABR                                                         \n",
       "AK                      153735    7418         26436    7418     60724   \n",
       "AL                      199712    7249         54443    7249     83725   \n",
       "AR                      155461    5947         53852    5947     79173   \n",
       "AZ                     1004549   40941         77917   40941    393784   \n",
       "CA                     2999951  140027        301601  140027   1869959   \n",
       "\n",
       "                         SECURITY_DELAY         LATE_AIRCRAFT_DELAY          \n",
       "                   count            sum   count                 sum   count  \n",
       "ORIGIN_STATE_ABR                                                             \n",
       "AK                  7418           4676    7418              195206    7418  \n",
       "AL                  7249            595    7249              242963    7249  \n",
       "AR                  5947           1049    5947              189425    5947  \n",
       "AZ                 40941           4131   40941             1131757   40941  \n",
       "CA                140027          14022  140027             3942297  140027  "
      ],
      "text/html": [
       "<div>\n",
       "<style scoped>\n",
       "    .dataframe tbody tr th:only-of-type {\n",
       "        vertical-align: middle;\n",
       "    }\n",
       "\n",
       "    .dataframe tbody tr th {\n",
       "        vertical-align: top;\n",
       "    }\n",
       "\n",
       "    .dataframe thead tr th {\n",
       "        text-align: left;\n",
       "    }\n",
       "\n",
       "    .dataframe thead tr:last-of-type th {\n",
       "        text-align: right;\n",
       "    }\n",
       "</style>\n",
       "<table border=\"1\" class=\"dataframe\">\n",
       "  <thead>\n",
       "    <tr>\n",
       "      <th></th>\n",
       "      <th colspan=\"2\" halign=\"left\">CARRIER_DELAY</th>\n",
       "      <th colspan=\"2\" halign=\"left\">WEATHER_DELAY</th>\n",
       "      <th colspan=\"2\" halign=\"left\">NAS_DELAY</th>\n",
       "      <th colspan=\"2\" halign=\"left\">SECURITY_DELAY</th>\n",
       "      <th colspan=\"2\" halign=\"left\">LATE_AIRCRAFT_DELAY</th>\n",
       "    </tr>\n",
       "    <tr>\n",
       "      <th></th>\n",
       "      <th>sum</th>\n",
       "      <th>count</th>\n",
       "      <th>sum</th>\n",
       "      <th>count</th>\n",
       "      <th>sum</th>\n",
       "      <th>count</th>\n",
       "      <th>sum</th>\n",
       "      <th>count</th>\n",
       "      <th>sum</th>\n",
       "      <th>count</th>\n",
       "    </tr>\n",
       "    <tr>\n",
       "      <th>ORIGIN_STATE_ABR</th>\n",
       "      <th></th>\n",
       "      <th></th>\n",
       "      <th></th>\n",
       "      <th></th>\n",
       "      <th></th>\n",
       "      <th></th>\n",
       "      <th></th>\n",
       "      <th></th>\n",
       "      <th></th>\n",
       "      <th></th>\n",
       "    </tr>\n",
       "  </thead>\n",
       "  <tbody>\n",
       "    <tr>\n",
       "      <th>AK</th>\n",
       "      <td>153735</td>\n",
       "      <td>7418</td>\n",
       "      <td>26436</td>\n",
       "      <td>7418</td>\n",
       "      <td>60724</td>\n",
       "      <td>7418</td>\n",
       "      <td>4676</td>\n",
       "      <td>7418</td>\n",
       "      <td>195206</td>\n",
       "      <td>7418</td>\n",
       "    </tr>\n",
       "    <tr>\n",
       "      <th>AL</th>\n",
       "      <td>199712</td>\n",
       "      <td>7249</td>\n",
       "      <td>54443</td>\n",
       "      <td>7249</td>\n",
       "      <td>83725</td>\n",
       "      <td>7249</td>\n",
       "      <td>595</td>\n",
       "      <td>7249</td>\n",
       "      <td>242963</td>\n",
       "      <td>7249</td>\n",
       "    </tr>\n",
       "    <tr>\n",
       "      <th>AR</th>\n",
       "      <td>155461</td>\n",
       "      <td>5947</td>\n",
       "      <td>53852</td>\n",
       "      <td>5947</td>\n",
       "      <td>79173</td>\n",
       "      <td>5947</td>\n",
       "      <td>1049</td>\n",
       "      <td>5947</td>\n",
       "      <td>189425</td>\n",
       "      <td>5947</td>\n",
       "    </tr>\n",
       "    <tr>\n",
       "      <th>AZ</th>\n",
       "      <td>1004549</td>\n",
       "      <td>40941</td>\n",
       "      <td>77917</td>\n",
       "      <td>40941</td>\n",
       "      <td>393784</td>\n",
       "      <td>40941</td>\n",
       "      <td>4131</td>\n",
       "      <td>40941</td>\n",
       "      <td>1131757</td>\n",
       "      <td>40941</td>\n",
       "    </tr>\n",
       "    <tr>\n",
       "      <th>CA</th>\n",
       "      <td>2999951</td>\n",
       "      <td>140027</td>\n",
       "      <td>301601</td>\n",
       "      <td>140027</td>\n",
       "      <td>1869959</td>\n",
       "      <td>140027</td>\n",
       "      <td>14022</td>\n",
       "      <td>140027</td>\n",
       "      <td>3942297</td>\n",
       "      <td>140027</td>\n",
       "    </tr>\n",
       "  </tbody>\n",
       "</table>\n",
       "</div>"
      ]
     },
     "execution_count": 41,
     "metadata": {},
     "output_type": "execute_result"
    }
   ],
   "execution_count": 41
  },
  {
   "metadata": {
    "ExecuteTime": {
     "end_time": "2025-03-08T21:50:01.734210Z",
     "start_time": "2025-03-08T21:50:01.641458Z"
    }
   },
   "cell_type": "code",
   "source": "df[['DEST_STATE_ABR'] + DELAYS].groupby('DEST_STATE_ABR')[DELAYS].agg(['sum', 'count']).head(10)",
   "id": "d073d0bc4f5b27b6",
   "outputs": [
    {
     "data": {
      "text/plain": [
       "               CARRIER_DELAY         WEATHER_DELAY         NAS_DELAY          \\\n",
       "                         sum   count           sum   count       sum   count   \n",
       "DEST_STATE_ABR                                                                 \n",
       "AK                    142745    8963         28006    8963     81133    8963   \n",
       "AL                    188423    7838         40934    7838     74514    7838   \n",
       "AR                    140563    6362         32210    6362     67612    6362   \n",
       "AZ                   1193099   41446        146952   41446    334824   41446   \n",
       "CA                   3193113  157021        431936  157021   2234339  157021   \n",
       "CO                   1618022   65313        295753   65313    843093   65313   \n",
       "CT                    135835    5329         15195    5329     50171    5329   \n",
       "FL                   3439484  145196        443151  145196   2584317  145196   \n",
       "GA                   1945688   62092        276166   62092    767336   62092   \n",
       "HI                    441562   18557         21040   18557    117689   18557   \n",
       "\n",
       "               SECURITY_DELAY         LATE_AIRCRAFT_DELAY          \n",
       "                          sum   count                 sum   count  \n",
       "DEST_STATE_ABR                                                     \n",
       "AK                       4874    8963              194500    8963  \n",
       "AL                        857    7838              223396    7838  \n",
       "AR                        596    6362              183659    6362  \n",
       "AZ                       6995   41446             1340082   41446  \n",
       "CA                      20179  157021             3767677  157021  \n",
       "CO                       5729   65313             1918849   65313  \n",
       "CT                        459    5329              151518    5329  \n",
       "FL                      20416  145196             4293278  145196  \n",
       "GA                       7348   62092             1774742   62092  \n",
       "HI                       2350   18557              336069   18557  "
      ],
      "text/html": [
       "<div>\n",
       "<style scoped>\n",
       "    .dataframe tbody tr th:only-of-type {\n",
       "        vertical-align: middle;\n",
       "    }\n",
       "\n",
       "    .dataframe tbody tr th {\n",
       "        vertical-align: top;\n",
       "    }\n",
       "\n",
       "    .dataframe thead tr th {\n",
       "        text-align: left;\n",
       "    }\n",
       "\n",
       "    .dataframe thead tr:last-of-type th {\n",
       "        text-align: right;\n",
       "    }\n",
       "</style>\n",
       "<table border=\"1\" class=\"dataframe\">\n",
       "  <thead>\n",
       "    <tr>\n",
       "      <th></th>\n",
       "      <th colspan=\"2\" halign=\"left\">CARRIER_DELAY</th>\n",
       "      <th colspan=\"2\" halign=\"left\">WEATHER_DELAY</th>\n",
       "      <th colspan=\"2\" halign=\"left\">NAS_DELAY</th>\n",
       "      <th colspan=\"2\" halign=\"left\">SECURITY_DELAY</th>\n",
       "      <th colspan=\"2\" halign=\"left\">LATE_AIRCRAFT_DELAY</th>\n",
       "    </tr>\n",
       "    <tr>\n",
       "      <th></th>\n",
       "      <th>sum</th>\n",
       "      <th>count</th>\n",
       "      <th>sum</th>\n",
       "      <th>count</th>\n",
       "      <th>sum</th>\n",
       "      <th>count</th>\n",
       "      <th>sum</th>\n",
       "      <th>count</th>\n",
       "      <th>sum</th>\n",
       "      <th>count</th>\n",
       "    </tr>\n",
       "    <tr>\n",
       "      <th>DEST_STATE_ABR</th>\n",
       "      <th></th>\n",
       "      <th></th>\n",
       "      <th></th>\n",
       "      <th></th>\n",
       "      <th></th>\n",
       "      <th></th>\n",
       "      <th></th>\n",
       "      <th></th>\n",
       "      <th></th>\n",
       "      <th></th>\n",
       "    </tr>\n",
       "  </thead>\n",
       "  <tbody>\n",
       "    <tr>\n",
       "      <th>AK</th>\n",
       "      <td>142745</td>\n",
       "      <td>8963</td>\n",
       "      <td>28006</td>\n",
       "      <td>8963</td>\n",
       "      <td>81133</td>\n",
       "      <td>8963</td>\n",
       "      <td>4874</td>\n",
       "      <td>8963</td>\n",
       "      <td>194500</td>\n",
       "      <td>8963</td>\n",
       "    </tr>\n",
       "    <tr>\n",
       "      <th>AL</th>\n",
       "      <td>188423</td>\n",
       "      <td>7838</td>\n",
       "      <td>40934</td>\n",
       "      <td>7838</td>\n",
       "      <td>74514</td>\n",
       "      <td>7838</td>\n",
       "      <td>857</td>\n",
       "      <td>7838</td>\n",
       "      <td>223396</td>\n",
       "      <td>7838</td>\n",
       "    </tr>\n",
       "    <tr>\n",
       "      <th>AR</th>\n",
       "      <td>140563</td>\n",
       "      <td>6362</td>\n",
       "      <td>32210</td>\n",
       "      <td>6362</td>\n",
       "      <td>67612</td>\n",
       "      <td>6362</td>\n",
       "      <td>596</td>\n",
       "      <td>6362</td>\n",
       "      <td>183659</td>\n",
       "      <td>6362</td>\n",
       "    </tr>\n",
       "    <tr>\n",
       "      <th>AZ</th>\n",
       "      <td>1193099</td>\n",
       "      <td>41446</td>\n",
       "      <td>146952</td>\n",
       "      <td>41446</td>\n",
       "      <td>334824</td>\n",
       "      <td>41446</td>\n",
       "      <td>6995</td>\n",
       "      <td>41446</td>\n",
       "      <td>1340082</td>\n",
       "      <td>41446</td>\n",
       "    </tr>\n",
       "    <tr>\n",
       "      <th>CA</th>\n",
       "      <td>3193113</td>\n",
       "      <td>157021</td>\n",
       "      <td>431936</td>\n",
       "      <td>157021</td>\n",
       "      <td>2234339</td>\n",
       "      <td>157021</td>\n",
       "      <td>20179</td>\n",
       "      <td>157021</td>\n",
       "      <td>3767677</td>\n",
       "      <td>157021</td>\n",
       "    </tr>\n",
       "    <tr>\n",
       "      <th>CO</th>\n",
       "      <td>1618022</td>\n",
       "      <td>65313</td>\n",
       "      <td>295753</td>\n",
       "      <td>65313</td>\n",
       "      <td>843093</td>\n",
       "      <td>65313</td>\n",
       "      <td>5729</td>\n",
       "      <td>65313</td>\n",
       "      <td>1918849</td>\n",
       "      <td>65313</td>\n",
       "    </tr>\n",
       "    <tr>\n",
       "      <th>CT</th>\n",
       "      <td>135835</td>\n",
       "      <td>5329</td>\n",
       "      <td>15195</td>\n",
       "      <td>5329</td>\n",
       "      <td>50171</td>\n",
       "      <td>5329</td>\n",
       "      <td>459</td>\n",
       "      <td>5329</td>\n",
       "      <td>151518</td>\n",
       "      <td>5329</td>\n",
       "    </tr>\n",
       "    <tr>\n",
       "      <th>FL</th>\n",
       "      <td>3439484</td>\n",
       "      <td>145196</td>\n",
       "      <td>443151</td>\n",
       "      <td>145196</td>\n",
       "      <td>2584317</td>\n",
       "      <td>145196</td>\n",
       "      <td>20416</td>\n",
       "      <td>145196</td>\n",
       "      <td>4293278</td>\n",
       "      <td>145196</td>\n",
       "    </tr>\n",
       "    <tr>\n",
       "      <th>GA</th>\n",
       "      <td>1945688</td>\n",
       "      <td>62092</td>\n",
       "      <td>276166</td>\n",
       "      <td>62092</td>\n",
       "      <td>767336</td>\n",
       "      <td>62092</td>\n",
       "      <td>7348</td>\n",
       "      <td>62092</td>\n",
       "      <td>1774742</td>\n",
       "      <td>62092</td>\n",
       "    </tr>\n",
       "    <tr>\n",
       "      <th>HI</th>\n",
       "      <td>441562</td>\n",
       "      <td>18557</td>\n",
       "      <td>21040</td>\n",
       "      <td>18557</td>\n",
       "      <td>117689</td>\n",
       "      <td>18557</td>\n",
       "      <td>2350</td>\n",
       "      <td>18557</td>\n",
       "      <td>336069</td>\n",
       "      <td>18557</td>\n",
       "    </tr>\n",
       "  </tbody>\n",
       "</table>\n",
       "</div>"
      ]
     },
     "execution_count": 42,
     "metadata": {},
     "output_type": "execute_result"
    }
   ],
   "execution_count": 42
  },
  {
   "metadata": {
    "ExecuteTime": {
     "end_time": "2025-03-08T21:50:02.102895Z",
     "start_time": "2025-03-08T21:50:02.094974Z"
    }
   },
   "cell_type": "code",
   "source": "df[df['CARRIER_DELAY'] == df['CARRIER_DELAY'].max()]",
   "id": "a51657083ff41341",
   "outputs": [
    {
     "data": {
      "text/plain": [
       "          ID  YEAR  MONTH  DAY_OF_MONTH            AIRLINE_NAME  \\\n",
       "51133  51133  2023     12            20  American Airlines Inc.   \n",
       "\n",
       "                                ORIGIN_AIRPORT_NAME ORIGIN_STATE_ABR  \\\n",
       "51133  Charleston, SC: Charleston AFB/International               SC   \n",
       "\n",
       "      ORIGIN_STATE_NM                               DEST_AIRPORT_NAME  \\\n",
       "51133  South Carolina  Charlotte, NC: Charlotte Douglas International   \n",
       "\n",
       "      DEST_STATE_ABR  ... WHEELS_ON  CRS_ELAPSED_TIME  ACTUAL_ELAPSED_TIME  \\\n",
       "51133             NC  ...      2124              67.0                 76.0   \n",
       "\n",
       "       AIR_TIME  DISTANCE  CARRIER_DELAY  WEATHER_DELAY  NAS_DELAY  \\\n",
       "51133      42.0     168.0           3786              0          9   \n",
       "\n",
       "       SECURITY_DELAY  LATE_AIRCRAFT_DELAY  \n",
       "51133               0                    0  \n",
       "\n",
       "[1 rows x 30 columns]"
      ],
      "text/html": [
       "<div>\n",
       "<style scoped>\n",
       "    .dataframe tbody tr th:only-of-type {\n",
       "        vertical-align: middle;\n",
       "    }\n",
       "\n",
       "    .dataframe tbody tr th {\n",
       "        vertical-align: top;\n",
       "    }\n",
       "\n",
       "    .dataframe thead th {\n",
       "        text-align: right;\n",
       "    }\n",
       "</style>\n",
       "<table border=\"1\" class=\"dataframe\">\n",
       "  <thead>\n",
       "    <tr style=\"text-align: right;\">\n",
       "      <th></th>\n",
       "      <th>ID</th>\n",
       "      <th>YEAR</th>\n",
       "      <th>MONTH</th>\n",
       "      <th>DAY_OF_MONTH</th>\n",
       "      <th>AIRLINE_NAME</th>\n",
       "      <th>ORIGIN_AIRPORT_NAME</th>\n",
       "      <th>ORIGIN_STATE_ABR</th>\n",
       "      <th>ORIGIN_STATE_NM</th>\n",
       "      <th>DEST_AIRPORT_NAME</th>\n",
       "      <th>DEST_STATE_ABR</th>\n",
       "      <th>...</th>\n",
       "      <th>WHEELS_ON</th>\n",
       "      <th>CRS_ELAPSED_TIME</th>\n",
       "      <th>ACTUAL_ELAPSED_TIME</th>\n",
       "      <th>AIR_TIME</th>\n",
       "      <th>DISTANCE</th>\n",
       "      <th>CARRIER_DELAY</th>\n",
       "      <th>WEATHER_DELAY</th>\n",
       "      <th>NAS_DELAY</th>\n",
       "      <th>SECURITY_DELAY</th>\n",
       "      <th>LATE_AIRCRAFT_DELAY</th>\n",
       "    </tr>\n",
       "  </thead>\n",
       "  <tbody>\n",
       "    <tr>\n",
       "      <th>51133</th>\n",
       "      <td>51133</td>\n",
       "      <td>2023</td>\n",
       "      <td>12</td>\n",
       "      <td>20</td>\n",
       "      <td>American Airlines Inc.</td>\n",
       "      <td>Charleston, SC: Charleston AFB/International</td>\n",
       "      <td>SC</td>\n",
       "      <td>South Carolina</td>\n",
       "      <td>Charlotte, NC: Charlotte Douglas International</td>\n",
       "      <td>NC</td>\n",
       "      <td>...</td>\n",
       "      <td>2124</td>\n",
       "      <td>67.0</td>\n",
       "      <td>76.0</td>\n",
       "      <td>42.0</td>\n",
       "      <td>168.0</td>\n",
       "      <td>3786</td>\n",
       "      <td>0</td>\n",
       "      <td>9</td>\n",
       "      <td>0</td>\n",
       "      <td>0</td>\n",
       "    </tr>\n",
       "  </tbody>\n",
       "</table>\n",
       "<p>1 rows × 30 columns</p>\n",
       "</div>"
      ]
     },
     "execution_count": 43,
     "metadata": {},
     "output_type": "execute_result"
    }
   ],
   "execution_count": 43
  },
  {
   "metadata": {
    "ExecuteTime": {
     "end_time": "2025-03-08T21:50:02.575549Z",
     "start_time": "2025-03-08T21:50:02.506583Z"
    }
   },
   "cell_type": "code",
   "source": "df.loc[df.groupby('ORIGIN_STATE_ABR')['LATE_AIRCRAFT_DELAY'].idxmax()].head(5)",
   "id": "5392d0189c59a0c8",
   "outputs": [
    {
     "data": {
      "text/plain": [
       "              ID  YEAR  MONTH  DAY_OF_MONTH            AIRLINE_NAME  \\\n",
       "1170239  1170239  2024      8            18   United Air Lines Inc.   \n",
       "1159472  1159472  2024      8            16       PSA Airlines Inc.   \n",
       "258578    258578  2024      2            11   SkyWest Airlines Inc.   \n",
       "871041    871041  2024      6            29  American Airlines Inc.   \n",
       "418605    418605  2024      3            26  American Airlines Inc.   \n",
       "\n",
       "                                       ORIGIN_AIRPORT_NAME ORIGIN_STATE_ABR  \\\n",
       "1170239  Anchorage, AK: Ted Stevens Anchorage Internati...               AK   \n",
       "1159472  Birmingham, AL: Birmingham-Shuttlesworth Inter...               AL   \n",
       "258578   Little Rock, AR: Bill and Hillary Clinton Nat ...               AR   \n",
       "871041       Phoenix, AZ: Phoenix Sky Harbor International               AZ   \n",
       "418605          Los Angeles, CA: Los Angeles International               CA   \n",
       "\n",
       "        ORIGIN_STATE_NM                                  DEST_AIRPORT_NAME  \\\n",
       "1170239          Alaska           Newark, NJ: Newark Liberty International   \n",
       "1159472         Alabama       Philadelphia, PA: Philadelphia International   \n",
       "258578         Arkansas          Chicago, IL: Chicago O'Hare International   \n",
       "871041          Arizona    Columbus, OH: John Glenn Columbus International   \n",
       "418605       California  Dallas/Fort Worth, TX: Dallas/Fort Worth Inter...   \n",
       "\n",
       "        DEST_STATE_ABR  ... WHEELS_ON  CRS_ELAPSED_TIME  ACTUAL_ELAPSED_TIME  \\\n",
       "1170239             NJ  ...         7             416.0                415.0   \n",
       "1159472             PA  ...      1703             138.0                128.0   \n",
       "258578              IL  ...       925             121.0                112.0   \n",
       "871041              OH  ...      2339             222.0                214.0   \n",
       "418605              TX  ...       201             178.0                165.0   \n",
       "\n",
       "         AIR_TIME  DISTANCE  CARRIER_DELAY  WEATHER_DELAY  NAS_DELAY  \\\n",
       "1170239     392.0    3370.0             43              0          0   \n",
       "1159472     107.0     772.0              9              0          0   \n",
       "258578       80.0     552.0              0              0          0   \n",
       "871041      194.0    1670.0             23              0          0   \n",
       "418605      141.0    1235.0            121              0          0   \n",
       "\n",
       "         SECURITY_DELAY  LATE_AIRCRAFT_DELAY  \n",
       "1170239               0                  965  \n",
       "1159472               0                 1457  \n",
       "258578                0                 1206  \n",
       "871041                0                 1456  \n",
       "418605                0                 2506  \n",
       "\n",
       "[5 rows x 30 columns]"
      ],
      "text/html": [
       "<div>\n",
       "<style scoped>\n",
       "    .dataframe tbody tr th:only-of-type {\n",
       "        vertical-align: middle;\n",
       "    }\n",
       "\n",
       "    .dataframe tbody tr th {\n",
       "        vertical-align: top;\n",
       "    }\n",
       "\n",
       "    .dataframe thead th {\n",
       "        text-align: right;\n",
       "    }\n",
       "</style>\n",
       "<table border=\"1\" class=\"dataframe\">\n",
       "  <thead>\n",
       "    <tr style=\"text-align: right;\">\n",
       "      <th></th>\n",
       "      <th>ID</th>\n",
       "      <th>YEAR</th>\n",
       "      <th>MONTH</th>\n",
       "      <th>DAY_OF_MONTH</th>\n",
       "      <th>AIRLINE_NAME</th>\n",
       "      <th>ORIGIN_AIRPORT_NAME</th>\n",
       "      <th>ORIGIN_STATE_ABR</th>\n",
       "      <th>ORIGIN_STATE_NM</th>\n",
       "      <th>DEST_AIRPORT_NAME</th>\n",
       "      <th>DEST_STATE_ABR</th>\n",
       "      <th>...</th>\n",
       "      <th>WHEELS_ON</th>\n",
       "      <th>CRS_ELAPSED_TIME</th>\n",
       "      <th>ACTUAL_ELAPSED_TIME</th>\n",
       "      <th>AIR_TIME</th>\n",
       "      <th>DISTANCE</th>\n",
       "      <th>CARRIER_DELAY</th>\n",
       "      <th>WEATHER_DELAY</th>\n",
       "      <th>NAS_DELAY</th>\n",
       "      <th>SECURITY_DELAY</th>\n",
       "      <th>LATE_AIRCRAFT_DELAY</th>\n",
       "    </tr>\n",
       "  </thead>\n",
       "  <tbody>\n",
       "    <tr>\n",
       "      <th>1170239</th>\n",
       "      <td>1170239</td>\n",
       "      <td>2024</td>\n",
       "      <td>8</td>\n",
       "      <td>18</td>\n",
       "      <td>United Air Lines Inc.</td>\n",
       "      <td>Anchorage, AK: Ted Stevens Anchorage Internati...</td>\n",
       "      <td>AK</td>\n",
       "      <td>Alaska</td>\n",
       "      <td>Newark, NJ: Newark Liberty International</td>\n",
       "      <td>NJ</td>\n",
       "      <td>...</td>\n",
       "      <td>7</td>\n",
       "      <td>416.0</td>\n",
       "      <td>415.0</td>\n",
       "      <td>392.0</td>\n",
       "      <td>3370.0</td>\n",
       "      <td>43</td>\n",
       "      <td>0</td>\n",
       "      <td>0</td>\n",
       "      <td>0</td>\n",
       "      <td>965</td>\n",
       "    </tr>\n",
       "    <tr>\n",
       "      <th>1159472</th>\n",
       "      <td>1159472</td>\n",
       "      <td>2024</td>\n",
       "      <td>8</td>\n",
       "      <td>16</td>\n",
       "      <td>PSA Airlines Inc.</td>\n",
       "      <td>Birmingham, AL: Birmingham-Shuttlesworth Inter...</td>\n",
       "      <td>AL</td>\n",
       "      <td>Alabama</td>\n",
       "      <td>Philadelphia, PA: Philadelphia International</td>\n",
       "      <td>PA</td>\n",
       "      <td>...</td>\n",
       "      <td>1703</td>\n",
       "      <td>138.0</td>\n",
       "      <td>128.0</td>\n",
       "      <td>107.0</td>\n",
       "      <td>772.0</td>\n",
       "      <td>9</td>\n",
       "      <td>0</td>\n",
       "      <td>0</td>\n",
       "      <td>0</td>\n",
       "      <td>1457</td>\n",
       "    </tr>\n",
       "    <tr>\n",
       "      <th>258578</th>\n",
       "      <td>258578</td>\n",
       "      <td>2024</td>\n",
       "      <td>2</td>\n",
       "      <td>11</td>\n",
       "      <td>SkyWest Airlines Inc.</td>\n",
       "      <td>Little Rock, AR: Bill and Hillary Clinton Nat ...</td>\n",
       "      <td>AR</td>\n",
       "      <td>Arkansas</td>\n",
       "      <td>Chicago, IL: Chicago O'Hare International</td>\n",
       "      <td>IL</td>\n",
       "      <td>...</td>\n",
       "      <td>925</td>\n",
       "      <td>121.0</td>\n",
       "      <td>112.0</td>\n",
       "      <td>80.0</td>\n",
       "      <td>552.0</td>\n",
       "      <td>0</td>\n",
       "      <td>0</td>\n",
       "      <td>0</td>\n",
       "      <td>0</td>\n",
       "      <td>1206</td>\n",
       "    </tr>\n",
       "    <tr>\n",
       "      <th>871041</th>\n",
       "      <td>871041</td>\n",
       "      <td>2024</td>\n",
       "      <td>6</td>\n",
       "      <td>29</td>\n",
       "      <td>American Airlines Inc.</td>\n",
       "      <td>Phoenix, AZ: Phoenix Sky Harbor International</td>\n",
       "      <td>AZ</td>\n",
       "      <td>Arizona</td>\n",
       "      <td>Columbus, OH: John Glenn Columbus International</td>\n",
       "      <td>OH</td>\n",
       "      <td>...</td>\n",
       "      <td>2339</td>\n",
       "      <td>222.0</td>\n",
       "      <td>214.0</td>\n",
       "      <td>194.0</td>\n",
       "      <td>1670.0</td>\n",
       "      <td>23</td>\n",
       "      <td>0</td>\n",
       "      <td>0</td>\n",
       "      <td>0</td>\n",
       "      <td>1456</td>\n",
       "    </tr>\n",
       "    <tr>\n",
       "      <th>418605</th>\n",
       "      <td>418605</td>\n",
       "      <td>2024</td>\n",
       "      <td>3</td>\n",
       "      <td>26</td>\n",
       "      <td>American Airlines Inc.</td>\n",
       "      <td>Los Angeles, CA: Los Angeles International</td>\n",
       "      <td>CA</td>\n",
       "      <td>California</td>\n",
       "      <td>Dallas/Fort Worth, TX: Dallas/Fort Worth Inter...</td>\n",
       "      <td>TX</td>\n",
       "      <td>...</td>\n",
       "      <td>201</td>\n",
       "      <td>178.0</td>\n",
       "      <td>165.0</td>\n",
       "      <td>141.0</td>\n",
       "      <td>1235.0</td>\n",
       "      <td>121</td>\n",
       "      <td>0</td>\n",
       "      <td>0</td>\n",
       "      <td>0</td>\n",
       "      <td>2506</td>\n",
       "    </tr>\n",
       "  </tbody>\n",
       "</table>\n",
       "<p>5 rows × 30 columns</p>\n",
       "</div>"
      ]
     },
     "execution_count": 44,
     "metadata": {},
     "output_type": "execute_result"
    }
   ],
   "execution_count": 44
  },
  {
   "metadata": {
    "ExecuteTime": {
     "end_time": "2025-03-08T21:50:03.383777Z",
     "start_time": "2025-03-08T21:50:03.311384Z"
    }
   },
   "cell_type": "code",
   "source": "df.loc[df.groupby('DEST_STATE_ABR')['CARRIER_DELAY'].idxmax()].head(5)",
   "id": "568dce97fe584e07",
   "outputs": [
    {
     "data": {
      "text/plain": [
       "            ID  YEAR  MONTH  DAY_OF_MONTH            AIRLINE_NAME  \\\n",
       "36596    36596  2023     12            15    Delta Air Lines Inc.   \n",
       "920338  920338  2024      7             9   SkyWest Airlines Inc.   \n",
       "494273  494273  2024      4            12      Mesa Airlines Inc.   \n",
       "471469  471469  2024      4             8  American Airlines Inc.   \n",
       "663626  663626  2024      5            21  American Airlines Inc.   \n",
       "\n",
       "                                      ORIGIN_AIRPORT_NAME ORIGIN_STATE_ABR  \\\n",
       "36596   Minneapolis, MN: Minneapolis-St Paul Internati...               MN   \n",
       "920338  Atlanta, GA: Hartsfield-Jackson Atlanta Intern...               GA   \n",
       "494273                   Denver, CO: Denver International               CO   \n",
       "471469             San Diego, CA: San Diego International               CA   \n",
       "663626     San Francisco, CA: San Francisco International               CA   \n",
       "\n",
       "       ORIGIN_STATE_NM                                  DEST_AIRPORT_NAME  \\\n",
       "36596        Minnesota  Anchorage, AK: Ted Stevens Anchorage Internati...   \n",
       "920338         Georgia                        Dothan, AL: Dothan Regional   \n",
       "494273        Colorado  Little Rock, AR: Bill and Hillary Clinton Nat ...   \n",
       "471469      California      Phoenix, AZ: Phoenix Sky Harbor International   \n",
       "663626      California         Los Angeles, CA: Los Angeles International   \n",
       "\n",
       "       DEST_STATE_ABR  ... WHEELS_ON  CRS_ELAPSED_TIME  ACTUAL_ELAPSED_TIME  \\\n",
       "36596              AK  ...      1209             379.0                379.0   \n",
       "920338             AL  ...      1301              61.0                 53.0   \n",
       "494273             AR  ...      1036             128.0                119.0   \n",
       "471469             AZ  ...      2151              84.0                 90.0   \n",
       "663626             CA  ...      1833              88.0                 88.0   \n",
       "\n",
       "        AIR_TIME  DISTANCE  CARRIER_DELAY  WEATHER_DELAY  NAS_DELAY  \\\n",
       "36596      353.0    2519.0           1012              0          0   \n",
       "920338      33.0     170.0            967              0          0   \n",
       "494273      94.0     771.0           1089              0          0   \n",
       "471469      56.0     304.0           3300              0          6   \n",
       "663626      58.0     337.0           2043              0          0   \n",
       "\n",
       "        SECURITY_DELAY  LATE_AIRCRAFT_DELAY  \n",
       "36596                0                    0  \n",
       "920338               0                    0  \n",
       "494273               0                    0  \n",
       "471469               0                   48  \n",
       "663626               0                    0  \n",
       "\n",
       "[5 rows x 30 columns]"
      ],
      "text/html": [
       "<div>\n",
       "<style scoped>\n",
       "    .dataframe tbody tr th:only-of-type {\n",
       "        vertical-align: middle;\n",
       "    }\n",
       "\n",
       "    .dataframe tbody tr th {\n",
       "        vertical-align: top;\n",
       "    }\n",
       "\n",
       "    .dataframe thead th {\n",
       "        text-align: right;\n",
       "    }\n",
       "</style>\n",
       "<table border=\"1\" class=\"dataframe\">\n",
       "  <thead>\n",
       "    <tr style=\"text-align: right;\">\n",
       "      <th></th>\n",
       "      <th>ID</th>\n",
       "      <th>YEAR</th>\n",
       "      <th>MONTH</th>\n",
       "      <th>DAY_OF_MONTH</th>\n",
       "      <th>AIRLINE_NAME</th>\n",
       "      <th>ORIGIN_AIRPORT_NAME</th>\n",
       "      <th>ORIGIN_STATE_ABR</th>\n",
       "      <th>ORIGIN_STATE_NM</th>\n",
       "      <th>DEST_AIRPORT_NAME</th>\n",
       "      <th>DEST_STATE_ABR</th>\n",
       "      <th>...</th>\n",
       "      <th>WHEELS_ON</th>\n",
       "      <th>CRS_ELAPSED_TIME</th>\n",
       "      <th>ACTUAL_ELAPSED_TIME</th>\n",
       "      <th>AIR_TIME</th>\n",
       "      <th>DISTANCE</th>\n",
       "      <th>CARRIER_DELAY</th>\n",
       "      <th>WEATHER_DELAY</th>\n",
       "      <th>NAS_DELAY</th>\n",
       "      <th>SECURITY_DELAY</th>\n",
       "      <th>LATE_AIRCRAFT_DELAY</th>\n",
       "    </tr>\n",
       "  </thead>\n",
       "  <tbody>\n",
       "    <tr>\n",
       "      <th>36596</th>\n",
       "      <td>36596</td>\n",
       "      <td>2023</td>\n",
       "      <td>12</td>\n",
       "      <td>15</td>\n",
       "      <td>Delta Air Lines Inc.</td>\n",
       "      <td>Minneapolis, MN: Minneapolis-St Paul Internati...</td>\n",
       "      <td>MN</td>\n",
       "      <td>Minnesota</td>\n",
       "      <td>Anchorage, AK: Ted Stevens Anchorage Internati...</td>\n",
       "      <td>AK</td>\n",
       "      <td>...</td>\n",
       "      <td>1209</td>\n",
       "      <td>379.0</td>\n",
       "      <td>379.0</td>\n",
       "      <td>353.0</td>\n",
       "      <td>2519.0</td>\n",
       "      <td>1012</td>\n",
       "      <td>0</td>\n",
       "      <td>0</td>\n",
       "      <td>0</td>\n",
       "      <td>0</td>\n",
       "    </tr>\n",
       "    <tr>\n",
       "      <th>920338</th>\n",
       "      <td>920338</td>\n",
       "      <td>2024</td>\n",
       "      <td>7</td>\n",
       "      <td>9</td>\n",
       "      <td>SkyWest Airlines Inc.</td>\n",
       "      <td>Atlanta, GA: Hartsfield-Jackson Atlanta Intern...</td>\n",
       "      <td>GA</td>\n",
       "      <td>Georgia</td>\n",
       "      <td>Dothan, AL: Dothan Regional</td>\n",
       "      <td>AL</td>\n",
       "      <td>...</td>\n",
       "      <td>1301</td>\n",
       "      <td>61.0</td>\n",
       "      <td>53.0</td>\n",
       "      <td>33.0</td>\n",
       "      <td>170.0</td>\n",
       "      <td>967</td>\n",
       "      <td>0</td>\n",
       "      <td>0</td>\n",
       "      <td>0</td>\n",
       "      <td>0</td>\n",
       "    </tr>\n",
       "    <tr>\n",
       "      <th>494273</th>\n",
       "      <td>494273</td>\n",
       "      <td>2024</td>\n",
       "      <td>4</td>\n",
       "      <td>12</td>\n",
       "      <td>Mesa Airlines Inc.</td>\n",
       "      <td>Denver, CO: Denver International</td>\n",
       "      <td>CO</td>\n",
       "      <td>Colorado</td>\n",
       "      <td>Little Rock, AR: Bill and Hillary Clinton Nat ...</td>\n",
       "      <td>AR</td>\n",
       "      <td>...</td>\n",
       "      <td>1036</td>\n",
       "      <td>128.0</td>\n",
       "      <td>119.0</td>\n",
       "      <td>94.0</td>\n",
       "      <td>771.0</td>\n",
       "      <td>1089</td>\n",
       "      <td>0</td>\n",
       "      <td>0</td>\n",
       "      <td>0</td>\n",
       "      <td>0</td>\n",
       "    </tr>\n",
       "    <tr>\n",
       "      <th>471469</th>\n",
       "      <td>471469</td>\n",
       "      <td>2024</td>\n",
       "      <td>4</td>\n",
       "      <td>8</td>\n",
       "      <td>American Airlines Inc.</td>\n",
       "      <td>San Diego, CA: San Diego International</td>\n",
       "      <td>CA</td>\n",
       "      <td>California</td>\n",
       "      <td>Phoenix, AZ: Phoenix Sky Harbor International</td>\n",
       "      <td>AZ</td>\n",
       "      <td>...</td>\n",
       "      <td>2151</td>\n",
       "      <td>84.0</td>\n",
       "      <td>90.0</td>\n",
       "      <td>56.0</td>\n",
       "      <td>304.0</td>\n",
       "      <td>3300</td>\n",
       "      <td>0</td>\n",
       "      <td>6</td>\n",
       "      <td>0</td>\n",
       "      <td>48</td>\n",
       "    </tr>\n",
       "    <tr>\n",
       "      <th>663626</th>\n",
       "      <td>663626</td>\n",
       "      <td>2024</td>\n",
       "      <td>5</td>\n",
       "      <td>21</td>\n",
       "      <td>American Airlines Inc.</td>\n",
       "      <td>San Francisco, CA: San Francisco International</td>\n",
       "      <td>CA</td>\n",
       "      <td>California</td>\n",
       "      <td>Los Angeles, CA: Los Angeles International</td>\n",
       "      <td>CA</td>\n",
       "      <td>...</td>\n",
       "      <td>1833</td>\n",
       "      <td>88.0</td>\n",
       "      <td>88.0</td>\n",
       "      <td>58.0</td>\n",
       "      <td>337.0</td>\n",
       "      <td>2043</td>\n",
       "      <td>0</td>\n",
       "      <td>0</td>\n",
       "      <td>0</td>\n",
       "      <td>0</td>\n",
       "    </tr>\n",
       "  </tbody>\n",
       "</table>\n",
       "<p>5 rows × 30 columns</p>\n",
       "</div>"
      ]
     },
     "execution_count": 45,
     "metadata": {},
     "output_type": "execute_result"
    }
   ],
   "execution_count": 45
  },
  {
   "metadata": {
    "ExecuteTime": {
     "end_time": "2025-03-08T21:50:03.837024Z",
     "start_time": "2025-03-08T21:50:03.705252Z"
    }
   },
   "cell_type": "code",
   "source": [
    "print(set(df['ORIGIN_STATE_NM'].unique()) == set(df['DEST_STATE_NM'].unique()))\n",
    "df['ORIGIN_STATE_NM'].unique()"
   ],
   "id": "4b426ad9f856c162",
   "outputs": [
    {
     "name": "stdout",
     "output_type": "stream",
     "text": [
      "True\n"
     ]
    },
    {
     "data": {
      "text/plain": [
       "array(['Georgia', 'Texas', 'New York', 'Maryland', 'South Carolina',\n",
       "       'North Carolina', 'Kentucky', 'Iowa', 'New Jersey', 'Minnesota',\n",
       "       'Virginia', 'Missouri', 'New Mexico', 'Connecticut', 'California',\n",
       "       'Alabama', 'Tennessee', 'Massachusetts', 'Ohio', 'Colorado',\n",
       "       'Michigan', 'Florida', 'Oregon', 'Washington', 'Indiana',\n",
       "       'Wyoming', 'Nevada', 'Pennsylvania', 'Wisconsin', 'Louisiana',\n",
       "       'Nebraska', 'Illinois', 'Arizona', 'Rhode Island', 'Puerto Rico',\n",
       "       'Utah', 'U.S. Virgin Islands', 'Oklahoma', 'Alaska', 'Idaho',\n",
       "       'Hawaii', 'Vermont', 'Mississippi', 'Arkansas', 'Montana',\n",
       "       'Kansas', 'Maine', 'West Virginia', 'New Hampshire',\n",
       "       'South Dakota', 'North Dakota',\n",
       "       'U.S. Pacific Trust Territories and Possessions'], dtype=object)"
      ]
     },
     "execution_count": 46,
     "metadata": {},
     "output_type": "execute_result"
    }
   ],
   "execution_count": 46
  },
  {
   "metadata": {
    "ExecuteTime": {
     "end_time": "2025-03-08T21:50:04.136258Z",
     "start_time": "2025-03-08T21:50:04.134041Z"
    }
   },
   "cell_type": "code",
   "source": [
    "states = set([\"Alabama\", \"Alaska\", \"Arizona\", \"Arkansas\", \"California\", \"Colorado\", \"Connecticut\", \"Delaware\",\n",
    "    \"Florida\", \"Georgia\", \"Hawaii\", \"Idaho\", \"Illinois\", \"Indiana\", \"Iowa\", \"Kansas\", \"Kentucky\", \"Louisiana\",\n",
    "    \"Maine\", \"Maryland\", \"Massachusetts\", \"Michigan\", \"Minnesota\", \"Mississippi\", \"Missouri\", \"Montana\",\n",
    "    \"Nebraska\", \"Nevada\", \"New Hampshire\", \"New Jersey\", \"New Mexico\", \"New York\", \"North Carolina\",\n",
    "    \"North Dakota\", \"Ohio\", \"Oklahoma\", \"Oregon\", \"Pennsylvania\", \"Rhode Island\", \"South Carolina\",\n",
    "    \"South Dakota\", \"Tennessee\", \"Texas\", \"Utah\", \"Vermont\", \"Virginia\", \"Washington\", \"West Virginia\",\n",
    "    \"Wisconsin\", \"Wyoming\"])"
   ],
   "id": "37b73a3abf10aa3f",
   "outputs": [],
   "execution_count": 47
  },
  {
   "metadata": {
    "ExecuteTime": {
     "end_time": "2025-03-08T21:50:04.574973Z",
     "start_time": "2025-03-08T21:50:04.532625Z"
    }
   },
   "cell_type": "code",
   "source": [
    "data_states = set(df['ORIGIN_STATE_NM'].unique())\n",
    "print(states.difference(data_states))\n",
    "print(data_states.difference(states))\n",
    "# data_states"
   ],
   "id": "644c9e4ba71ab8ea",
   "outputs": [
    {
     "name": "stdout",
     "output_type": "stream",
     "text": [
      "{'Delaware'}\n",
      "{'Puerto Rico', 'U.S. Virgin Islands', 'U.S. Pacific Trust Territories and Possessions'}\n"
     ]
    }
   ],
   "execution_count": 48
  },
  {
   "metadata": {
    "ExecuteTime": {
     "end_time": "2025-03-08T21:50:05.077062Z",
     "start_time": "2025-03-08T21:50:04.995591Z"
    }
   },
   "cell_type": "code",
   "source": [
    "origin_airports = set(df['ORIGIN_AIRPORT_NAME'].unique())\n",
    "# origin_airports\n",
    "# dest_airports = set(df['DEST_AIRPORT_NAME'].unique())\n",
    "# print(origin_airports.difference(dest_airports))\n",
    "# print(dest_airports.difference(origin_airports))"
   ],
   "id": "65aebf4e6248bf9e",
   "outputs": [],
   "execution_count": 49
  },
  {
   "metadata": {
    "ExecuteTime": {
     "end_time": "2025-03-08T21:50:06.241199Z",
     "start_time": "2025-03-08T21:50:06.174498Z"
    }
   },
   "cell_type": "code",
   "source": [
    "airlines = set(df[AIRLINE].unique())\n",
    "# airlines"
   ],
   "id": "152c5f80391903f5",
   "outputs": [],
   "execution_count": 50
  },
  {
   "metadata": {},
   "cell_type": "code",
   "source": [
    "print((df['ORIGIN_AIRPORT_NAME'].str.split(':', expand=True)[0] != df['ORIGIN_CITY_NAME']).sum())\n",
    "print((df['DEST_AIRPORT_NAME'].str.split(':', expand=True)[0] != df['DEST_CITY_NAME']).sum())"
   ],
   "id": "aece704390db396d",
   "outputs": [],
   "execution_count": null
  },
  {
   "metadata": {
    "ExecuteTime": {
     "end_time": "2025-03-08T21:50:15.036267Z",
     "start_time": "2025-03-08T21:50:07.896575Z"
    }
   },
   "cell_type": "code",
   "source": [
    "print((df['ORIGIN_AIRPORT_NAME'].str.split(':', expand=True)[0].str.split(', ', expand=True)[1] != df['ORIGIN_STATE_ABR']).sum())\n",
    "print((df['DEST_AIRPORT_NAME'].str.split(':', expand=True)[0].str.split(', ', expand=True)[1] != df['DEST_STATE_ABR']).sum())"
   ],
   "id": "71302f04acc09c55",
   "outputs": [
    {
     "name": "stdout",
     "output_type": "stream",
     "text": [
      "48090\n",
      "48941\n"
     ]
    }
   ],
   "execution_count": 51
  },
  {
   "metadata": {
    "ExecuteTime": {
     "end_time": "2025-03-08T22:59:46.634754Z",
     "start_time": "2025-03-08T22:59:20.720199Z"
    }
   },
   "cell_type": "code",
   "source": [
    "delay_dict = {}\n",
    "for _, row in df[[\"ID\"]+DELAYS].iterrows():\n",
    "    trimmed_val = ','.join([str(d) if d != 0 else '' for d in row[1:].values])\n",
    "    delay_dict[str(row[0])] = trimmed_val\n",
    "    # break\n",
    "# delay_dict\n",
    "print(len(delay_dict))"
   ],
   "id": "4e78176fe504e003",
   "outputs": [
    {
     "name": "stdout",
     "output_type": "stream",
     "text": [
      "1492687\n"
     ]
    }
   ],
   "execution_count": 100
  },
  {
   "metadata": {
    "ExecuteTime": {
     "end_time": "2025-03-08T22:59:47.162175Z",
     "start_time": "2025-03-08T22:59:46.700456Z"
    }
   },
   "cell_type": "code",
   "source": [
    "# with open('delay_map.json', 'w') as f:\n",
    "#     json.dump(delay_dict, f,)\n",
    "# del delay_dict"
   ],
   "id": "9ba7f8c379310cd",
   "outputs": [],
   "execution_count": 101
  },
  {
   "metadata": {
    "ExecuteTime": {
     "end_time": "2025-03-08T23:15:05.716888Z",
     "start_time": "2025-03-08T23:14:38.650152Z"
    }
   },
   "cell_type": "code",
   "source": [
    "dates_dict = {}\n",
    "for _, row in df[[\"ID\"]+ DATES].iterrows():\n",
    "    d = row[1:].values\n",
    "    key = \"/\".join([str(x) for x in d])\n",
    "    if key in dates_dict:\n",
    "        dates_dict[key] += \",\" + str(row[0])\n",
    "    else:\n",
    "        dates_dict[key] = str(row[0])\n",
    "    \n",
    "for entry in dates_dict.items():\n",
    "    cont = True\n",
    "    val = entry[1].split(',')\n",
    "    for i in range(1, len(val)):\n",
    "        if int(val[i]) - int(val[i-1]) != 1:\n",
    "            cont = False\n",
    "            break\n",
    "    if not cont:\n",
    "        print(f\"Warning: {entry[0]}:{cont}\")\n",
    "    else:\n",
    "        new_val = \"\"+str(val[0])+\",\"+str(val[-1])\n",
    "        # print(f\"Continues: {entry[0]}:{new_val}\")\n",
    "        dates_dict[str(entry[0])] = new_val"
   ],
   "id": "45ea6e7e912445b",
   "outputs": [],
   "execution_count": 125
  },
  {
   "metadata": {
    "ExecuteTime": {
     "end_time": "2025-03-08T23:15:05.722042Z",
     "start_time": "2025-03-08T23:15:05.720041Z"
    }
   },
   "cell_type": "code",
   "source": [
    "# with open('dates_map.json', 'w') as f:\n",
    "#     json.dump(dates_dict, f,)\n",
    "# del dates_dict"
   ],
   "id": "f7a92089cf626f84",
   "outputs": [],
   "execution_count": 126
  },
  {
   "metadata": {
    "ExecuteTime": {
     "end_time": "2025-03-08T22:52:54.432807Z",
     "start_time": "2025-03-08T22:52:29.211341Z"
    }
   },
   "cell_type": "code",
   "source": [
    "states_origin_dict = {}\n",
    "for _, row in df[[\"ID\"]+ [ORIGIN[1]]].iterrows():\n",
    "    d = row[1:].values\n",
    "    key = \"/\".join([str(x) for x in d])\n",
    "    if key in states_origin_dict:\n",
    "        states_origin_dict[key].append(str(row[0]))\n",
    "    else:\n",
    "        states_origin_dict[key] = [str(row[0])]\n",
    "    # break\n",
    "# states_origin_dict\n",
    "c = 0\n",
    "for val in states_origin_dict.values():\n",
    "    c += len(val)\n",
    "print(c)"
   ],
   "id": "288cd7b170f80254",
   "outputs": [
    {
     "name": "stdout",
     "output_type": "stream",
     "text": [
      "1492687\n"
     ]
    }
   ],
   "execution_count": 89
  },
  {
   "metadata": {
    "ExecuteTime": {
     "end_time": "2025-03-08T22:52:54.744482Z",
     "start_time": "2025-03-08T22:52:54.499722Z"
    }
   },
   "cell_type": "code",
   "source": [
    "with open('states_origin_map.json', 'w') as f:\n",
    "    json.dump(states_origin_dict, f,)\n",
    "del states_origin_dict"
   ],
   "id": "7b4a8f8e4e5951fa",
   "outputs": [],
   "execution_count": 90
  },
  {
   "metadata": {
    "ExecuteTime": {
     "end_time": "2025-03-08T22:53:20.475969Z",
     "start_time": "2025-03-08T22:52:54.899288Z"
    }
   },
   "cell_type": "code",
   "source": [
    "states_dest_dict = {}\n",
    "for _, row in df[[\"ID\"] + [DEST[1]]].iterrows():\n",
    "    d = row[1:].values\n",
    "    key = \"/\".join([str(x) for x in d])\n",
    "    if key in states_dest_dict:\n",
    "        states_dest_dict[key].append(str(row[0]))\n",
    "    else:\n",
    "        states_dest_dict[key] = [str(row[0])]\n",
    "    # break\n",
    "# states_dest_dict\n",
    "c = 0\n",
    "for val in states_dest_dict.values():\n",
    "    c += len(val)\n",
    "print(c)"
   ],
   "id": "4d8d28565d2f73b8",
   "outputs": [
    {
     "name": "stdout",
     "output_type": "stream",
     "text": [
      "1492687\n"
     ]
    }
   ],
   "execution_count": 91
  },
  {
   "metadata": {
    "ExecuteTime": {
     "end_time": "2025-03-08T22:53:20.925874Z",
     "start_time": "2025-03-08T22:53:20.655038Z"
    }
   },
   "cell_type": "code",
   "source": [
    "with open('states_dest_map.json', 'w') as f:\n",
    "    json.dump(states_dest_dict, f, )\n",
    "del states_dest_dict"
   ],
   "id": "e0ba2e3abc1f72f6",
   "outputs": [],
   "execution_count": 92
  },
  {
   "metadata": {},
   "cell_type": "code",
   "outputs": [],
   "execution_count": null,
   "source": "",
   "id": "f6f767cdd823ac02"
  }
 ],
 "metadata": {
  "kernelspec": {
   "display_name": "Python 3",
   "language": "python",
   "name": "python3"
  },
  "language_info": {
   "codemirror_mode": {
    "name": "ipython",
    "version": 2
   },
   "file_extension": ".py",
   "mimetype": "text/x-python",
   "name": "python",
   "nbconvert_exporter": "python",
   "pygments_lexer": "ipython2",
   "version": "2.7.6"
  }
 },
 "nbformat": 4,
 "nbformat_minor": 5
}
